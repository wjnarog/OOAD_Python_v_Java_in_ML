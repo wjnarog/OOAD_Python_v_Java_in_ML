{
 "cells": [
  {
   "cell_type": "code",
   "execution_count": null,
   "metadata": {},
   "outputs": [],
   "source": [
    "import numpy as np\n",
    "import matplotlib.pyplot as plt\n",
    "import seaborn as sns\n",
    "import pandas as pd\n",
    "from sklearn.linear_model import LogisticRegression\n",
    "from sklearn.model_selection import train_test_split\n",
    "from sklearn import svm\n",
    "from sklearn import metrics\n",
    "from sklearn.tree import DecisionTreeClassifier\n",
    "import time"
   ]
  },
  {
   "cell_type": "code",
   "execution_count": 2,
   "metadata": {},
   "outputs": [],
   "source": [
    "class BaseClassifier:\n",
    "    def __init__(self, data_path):\n",
    "        self.data = pd.read_csv(data_path)\n",
    "        self.train_data, self.test_data = self.split_data()\n",
    "        self.train_features, self.train_labels, self.test_features, self.test_labels = self.prepare_features()\n",
    "\n",
    "    def split_data(self, test_size=0.3):\n",
    "        return train_test_split(self.data, test_size=test_size)\n",
    "\n",
    "    def prepare_features(self):\n",
    "        train_features = self.train_data[[\n",
    "            'SepalLengthCm', 'SepalWidthCm', 'PetalLengthCm', 'PetalWidthCm']]\n",
    "        train_labels = self.train_data.Species\n",
    "        test_features = self.test_data[[\n",
    "            'SepalLengthCm', 'SepalWidthCm', 'PetalLengthCm', 'PetalWidthCm']]\n",
    "        test_labels = self.test_data.Species\n",
    "        return train_features, train_labels, test_features, test_labels\n",
    "\n",
    "    def evaluate(self, predictions):\n",
    "        accuracy = metrics.accuracy_score(predictions, self.test_labels)\n",
    "        return {\n",
    "            'accuracy': accuracy,\n",
    "            'train_time': self.training_time,\n",
    "            'predict_time': self.prediction_time,\n",
    "        }\n",
    "\n",
    "    def train(self):\n",
    "        start_time = time.time() * 1000  # milliseconds from epoch\n",
    "        self.model.fit(self.train_features, self.train_labels)\n",
    "        self.training_time = time.time() * 1000 - start_time\n",
    "\n",
    "    def predict(self):\n",
    "        start_time = time.time() * 1000\n",
    "        predictions = self.model.predict(self.test_features)\n",
    "        self.prediction_time = time.time() * 1000 - start_time\n",
    "        return predictions"
   ]
  },
  {
   "cell_type": "code",
   "execution_count": 3,
   "metadata": {},
   "outputs": [],
   "source": [
    "class SVMClassifier(BaseClassifier):\n",
    "    def __init__(self, data_path):\n",
    "        super().__init__(data_path)\n",
    "        # Composition: Compose an SVM model inside the class\n",
    "        self.model = svm.SVC()\n",
    "\n",
    "    def train(self):\n",
    "        start_time = time.time() * 1000  # milliseconds from epoch\n",
    "        self.model.fit(self.train_features, self.train_labels)\n",
    "        self.training_time = time.time() * 1000 - start_time  # milliseconds duration\n",
    "\n",
    "    def predict(self):\n",
    "        start_time = time.time() * 1000\n",
    "        predictions = self.model.predict(self.test_features)\n",
    "        self.prediction_time = time.time() * 1000 - start_time\n",
    "        return predictions"
   ]
  },
  {
   "cell_type": "code",
   "execution_count": 4,
   "metadata": {},
   "outputs": [],
   "source": [
    "class LogisticRegressionClassifier(BaseClassifier):\n",
    "    def __init__(self, data_path):\n",
    "        super().__init__(data_path)\n",
    "        # Composition: Compose a Logistic Regression model inside the class\n",
    "        self.model = LogisticRegression(max_iter=1000)\n",
    "\n",
    "    def train(self):\n",
    "        start_time = time.time() * 1000  # milliseconds from epoch\n",
    "        self.model.fit(self.train_features, self.train_labels)\n",
    "        self.training_time = time.time() * 1000 - start_time  # milliseconds duration\n",
    "\n",
    "    def predict(self):\n",
    "        start_time = time.time() * 1000\n",
    "        predictions = self.model.predict(self.test_features)\n",
    "        self.prediction_time = time.time() * 1000 - start_time\n",
    "        return predictions"
   ]
  },
  {
   "cell_type": "code",
   "execution_count": 5,
   "metadata": {},
   "outputs": [],
   "source": [
    "class DecisionTreeClassifierStyle(BaseClassifier):\n",
    "    def __init__(self, data_path):\n",
    "        super().__init__(data_path)\n",
    "        # Composition: Compose a Decision Tree model inside the class\n",
    "        self.model = DecisionTreeClassifier()\n",
    "\n",
    "    def train(self):\n",
    "        start_time = time.time() * 1000  # milliseconds from epoch\n",
    "        self.model.fit(self.train_features, self.train_labels)\n",
    "        self.training_time = time.time() * 1000 - start_time  # milliseconds duration\n",
    "\n",
    "    def predict(self):\n",
    "        start_time = time.time() * 1000\n",
    "        predictions = self.model.predict(self.test_features)\n",
    "        self.prediction_time = time.time() * 1000 - start_time\n",
    "        return predictions"
   ]
  },
  {
   "cell_type": "code",
   "execution_count": 6,
   "metadata": {},
   "outputs": [],
   "source": [
    "class PerformanceStats:\n",
    "    def __init__(self):\n",
    "        self.total_accuracy = 0\n",
    "        self.total_train_time = 0\n",
    "        self.total_predict_time = 0\n",
    "        self.runs = 0\n",
    "\n",
    "    def add_run(self, accuracy, train_time, predict_time):\n",
    "        self.total_accuracy += accuracy\n",
    "        self.total_train_time += train_time\n",
    "        self.total_predict_time += predict_time\n",
    "        self.runs += 1\n",
    "\n",
    "    def get_averages(self):\n",
    "        return {\n",
    "            'accuracy': self.total_accuracy / self.runs * 100,\n",
    "            'train_time': self.total_train_time / self.runs,\n",
    "            'predict_time': self.total_predict_time / self.runs,\n",
    "        }"
   ]
  },
  {
   "cell_type": "code",
   "execution_count": 7,
   "metadata": {},
   "outputs": [],
   "source": [
    "def run_classification():\n",
    "    classifier_classes = [\n",
    "        SVMClassifier,\n",
    "        LogisticRegressionClassifier,\n",
    "        DecisionTreeClassifierStyle,\n",
    "    ]\n",
    "\n",
    "    num_runs = 100\n",
    "\n",
    "    for Classifier in classifier_classes:\n",
    "        print(f\"\\n{Classifier.__name__}\")\n",
    "        stats = PerformanceStats()\n",
    "\n",
    "        for _ in range(num_runs):\n",
    "            classifier = Classifier(\"./Input_Data/Iris.csv\")\n",
    "            classifier.train()\n",
    "            predictions = classifier.predict()\n",
    "            result = classifier.evaluate(predictions)\n",
    "\n",
    "            stats.add_run(result['accuracy'],\n",
    "                          result['train_time'],\n",
    "                          result['predict_time'])\n",
    "\n",
    "        averages = stats.get_averages()\n",
    "        print(f\"Average Training Time: {averages['train_time']:.3f} ms\")\n",
    "        print(f\"Average Prediction Time: {averages['predict_time']:.3f} ms\")\n",
    "        print(f\"Average Accuracy: {averages['accuracy']:.2f}%\")\n",
    "        print(f\"(averaged over {num_runs} runs)\")"
   ]
  },
  {
   "cell_type": "code",
   "execution_count": 8,
   "metadata": {},
   "outputs": [
    {
     "name": "stdout",
     "output_type": "stream",
     "text": [
      "\n",
      "SVMClassifier\n",
      "Average Training Time: 1.507 ms\n",
      "Average Prediction Time: 0.924 ms\n",
      "Average Accuracy: 95.93%\n",
      "(averaged over 100 runs)\n",
      "\n",
      "LogisticRegressionClassifier\n",
      "Average Training Time: 38.234 ms\n",
      "Average Prediction Time: 1.325 ms\n",
      "Average Accuracy: 95.98%\n",
      "(averaged over 100 runs)\n",
      "\n",
      "DecisionTreeClassifierStyle\n",
      "Average Training Time: 1.322 ms\n",
      "Average Prediction Time: 0.695 ms\n",
      "Average Accuracy: 94.87%\n",
      "(averaged over 100 runs)\n"
     ]
    }
   ],
   "source": [
    "run_classification()"
   ]
  }
 ],
 "metadata": {
  "kernelspec": {
   "display_name": "myenv",
   "language": "python",
   "name": "python3"
  },
  "language_info": {
   "codemirror_mode": {
    "name": "ipython",
    "version": 3
   },
   "file_extension": ".py",
   "mimetype": "text/x-python",
   "name": "python",
   "nbconvert_exporter": "python",
   "pygments_lexer": "ipython3",
   "version": "3.12.3"
  }
 },
 "nbformat": 4,
 "nbformat_minor": 2
}
