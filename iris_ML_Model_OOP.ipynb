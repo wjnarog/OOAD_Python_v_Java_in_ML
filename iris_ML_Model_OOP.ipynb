{
 "cells": [
  {
   "cell_type": "code",
   "execution_count": 27,
   "metadata": {},
   "outputs": [],
   "source": [
    "import numpy as np\n",
    "import matplotlib.pyplot as plt\n",
    "import seaborn as sns\n",
    "import pandas as pd\n",
    "from sklearn.linear_model import LogisticRegression\n",
    "from sklearn.model_selection import train_test_split\n",
    "from sklearn.neighbors import KNeighborsClassifier\n",
    "from sklearn import svm\n",
    "from sklearn import metrics\n",
    "from sklearn.tree import DecisionTreeClassifier"
   ]
  },
  {
   "cell_type": "code",
   "execution_count": null,
   "metadata": {},
   "outputs": [],
   "source": [
    "class BaseClassifier:\n",
    "    def __init__(self, data_path):\n",
    "        # Encapsulation: Data and methods are encapsulated within the class\n",
    "        self.data = pd.read_csv(data_path)  \n",
    "        # Split data into train and test\n",
    "        self.train_data, self.test_data = self.split_data()\n",
    "        self.train_features, self.train_labels, self.test_features, self.test_labels = self.prepare_features()  # Prepare features\n",
    "\n",
    "    def split_data(self, test_size=0.3):\n",
    "        # Abstraction: Hide the complexity of splitting data\n",
    "        return train_test_split(self.data, test_size=test_size)\n",
    "\n",
    "    def prepare_features(self):\n",
    "        # Abstraction: Hide the complexity of feature preparation\n",
    "        train_features = self.train_data[[\n",
    "            'SepalLengthCm', 'SepalWidthCm', 'PetalLengthCm', 'PetalWidthCm']]\n",
    "        train_labels = self.train_data.Species\n",
    "        test_features = self.test_data[[\n",
    "            'SepalLengthCm', 'SepalWidthCm', 'PetalLengthCm', 'PetalWidthCm']]\n",
    "        test_labels = self.test_data.Species\n",
    "        return train_features, train_labels, test_features, test_labels\n",
    "\n",
    "    def evaluate(self, predictions, true_labels):\n",
    "        # DRY/KISS: Reusable method for evaluating accuracy\n",
    "        accuracy = metrics.accuracy_score(predictions, true_labels)\n",
    "        print(f'The accuracy of the {self.__class__.__name__} is: {accuracy}')\n",
    "        return accuracy"
   ]
  },
  {
   "cell_type": "code",
   "execution_count": 29,
   "metadata": {},
   "outputs": [],
   "source": [
    "class SVMClassifier(BaseClassifier):\n",
    "    def __init__(self, data_path):\n",
    "        super().__init__(data_path)\n",
    "        self.model = svm.SVC()  # Composition: Compose an SVM model inside the class\n",
    "\n",
    "    def train(self):\n",
    "        self.model.fit(self.train_features, self.train_labels)\n",
    "\n",
    "    def predict(self):\n",
    "        return self.model.predict(self.test_features)"
   ]
  },
  {
   "cell_type": "code",
   "execution_count": 30,
   "metadata": {},
   "outputs": [],
   "source": [
    "class LogisticRegressionClassifier(BaseClassifier):\n",
    "    def __init__(self, data_path):\n",
    "        super().__init__(data_path)\n",
    "        # Composition: Compose a Logistic Regression model inside the class\n",
    "        self.model = LogisticRegression()\n",
    "\n",
    "    def train(self):\n",
    "        self.model.fit(self.train_features, self.train_labels)\n",
    "\n",
    "    def predict(self):\n",
    "        return self.model.predict(self.test_features)"
   ]
  },
  {
   "cell_type": "code",
   "execution_count": null,
   "metadata": {},
   "outputs": [],
   "source": [
    "class DecisionTreeClassifierStyle(BaseClassifier):\n",
    "    def __init__(self, data_path):\n",
    "        super().__init__(data_path)\n",
    "        # Composition: Compose a Decision Tree model inside the class\n",
    "        self.model = DecisionTreeClassifier()\n",
    "\n",
    "    def train(self):\n",
    "        self.model.fit(self.train_features, self.train_labels)\n",
    "\n",
    "    def predict(self):\n",
    "        return self.model.predict(self.test_features)"
   ]
  },
  {
   "cell_type": "code",
   "execution_count": 32,
   "metadata": {},
   "outputs": [],
   "source": [
    "class KNNClassifier(BaseClassifier):\n",
    "    def __init__(self, data_path, n_neighbors=3):\n",
    "        super().__init__(data_path)\n",
    "        # Composition: Compose a KNN model inside the class\n",
    "        self.model = KNeighborsClassifier(n_neighbors=n_neighbors)\n",
    "\n",
    "    def train(self):\n",
    "        self.model.fit(self.train_features, self.train_labels)\n",
    "\n",
    "    def predict(self):\n",
    "        return self.model.predict(self.test_features)"
   ]
  },
  {
   "cell_type": "code",
   "execution_count": null,
   "metadata": {},
   "outputs": [],
   "source": [
    "def run_classification():\n",
    "    # Maintainability: The code is modular and easy to maintain\n",
    "    classifiers = [\n",
    "        SVMClassifier(\"./Input_Data/Iris.csv\"),\n",
    "        LogisticRegressionClassifier(\"./Input_Data/Iris.csv\"),\n",
    "        DecisionTreeClassifierStyle(\"./Input_Data/Iris.csv\"),\n",
    "        KNNClassifier(\"./Input_Data/Iris.csv\", n_neighbors=3)\n",
    "    ]\n",
    "\n",
    "    for classifier in classifiers:\n",
    "        classifier.train()  # Train the model\n",
    "        predictions = classifier.predict()  # Make predictions\n",
    "        # Evaluate accuracy\n",
    "        classifier.evaluate(predictions, classifier.test_labels)"
   ]
  },
  {
   "cell_type": "code",
   "execution_count": 34,
   "metadata": {},
   "outputs": [
    {
     "name": "stdout",
     "output_type": "stream",
     "text": [
      "The accuracy of the SVMClassifier is: 0.9333333333333333\n",
      "The accuracy of the LogisticRegressionClassifier is: 0.9777777777777777\n",
      "The accuracy of the DecisionTreeClassifierWrapper is: 0.9555555555555556\n",
      "The accuracy of the KNNClassifier is: 0.9555555555555556\n"
     ]
    }
   ],
   "source": [
    "run_classification()"
   ]
  },
  {
   "cell_type": "markdown",
   "metadata": {},
   "source": [
    "**Encapsulation**\n",
    "  - encapsulate the model `train`, `predict`, and `evaluate` logic into a class\n",
    "  - Ex: The `BaseClassifier` class encapsulates the data loading, splitting, and feature preparation logic. Each subclass (eg. `SVMClassifier`) encapsulates the training, prediction, and evaluation logic for a specific model\n",
    "\n",
    "**Inheritance**:\n",
    "  - Each subclass (eg. `SVMClassifier`, `LogisticRegressionClassifier`) inherits from the `BaseClassifier` class and implements the `train` and `predict` methods\n",
    "  - Ex. The `SVMClassifier` class inherits the `split_data`, `prepare_features`, and `evaluate` methods from `BaseClassifier`\n",
    "\n",
    "**Favor Composition over Inheritance**:\n",
    "  - Makes the code more flexible and modular\n",
    "  - Ex: The `SVMClassifier` class composes an `svm.SVC()` model instead of inheriting from it. Similarly, the `LogisticRegressionClassifier` composes a `LogisticRegression()` model.\n",
    "\n",
    "#### **Maintainability**:\n",
    "  - Ex: Adding a new classifier is as simple as creating a new subclass that composes the desired model and implements the `train` and `predict` methods\n",
    "\n",
    "#### **DRY/KISS**:\n",
    "  - Code is kept simple and straightforward, adhering to the KISS principle.\n",
    "  - Ex: Instead of writing evaluation logic in each subclass, the `evaluate` method in `BaseClassifier` is reused by all subclasses."
   ]
  }
 ],
 "metadata": {
  "kernelspec": {
   "display_name": "myenv",
   "language": "python",
   "name": "python3"
  },
  "language_info": {
   "codemirror_mode": {
    "name": "ipython",
    "version": 3
   },
   "file_extension": ".py",
   "mimetype": "text/x-python",
   "name": "python",
   "nbconvert_exporter": "python",
   "pygments_lexer": "ipython3",
   "version": "3.12.3"
  }
 },
 "nbformat": 4,
 "nbformat_minor": 2
}
