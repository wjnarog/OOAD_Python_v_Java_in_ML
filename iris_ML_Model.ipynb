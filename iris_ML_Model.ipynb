{
 "cells": [
  {
   "cell_type": "code",
   "execution_count": null,
   "metadata": {},
   "outputs": [],
   "source": [
    "!pip install numpy\n",
    "!pip install matplotlib\n",
    "!pip install pandas\n",
    "!pip install seaborn\n",
    "!pip install scikit-learn"
   ]
  },
  {
   "cell_type": "code",
   "execution_count": 110,
   "metadata": {},
   "outputs": [],
   "source": [
    "import numpy as np\n",
    "import matplotlib.pyplot as plt\n",
    "import seaborn as sns\n",
    "import pandas as pd\n",
    "from subprocess import check_output"
   ]
  },
  {
   "cell_type": "code",
   "execution_count": 111,
   "metadata": {},
   "outputs": [
    {
     "name": "stdout",
     "output_type": "stream",
     "text": [
      "Iris.csv\n",
      "\n"
     ]
    }
   ],
   "source": [
    "print(check_output([\"ls\", \"./input\"]).decode(\"utf8\"))"
   ]
  },
  {
   "cell_type": "code",
   "execution_count": 112,
   "metadata": {},
   "outputs": [],
   "source": [
    "iris_data = pd.read_csv(\"./input/Iris.csv\")"
   ]
  },
  {
   "cell_type": "code",
   "execution_count": 113,
   "metadata": {},
   "outputs": [
    {
     "data": {
      "text/html": [
       "<div>\n",
       "<style scoped>\n",
       "    .dataframe tbody tr th:only-of-type {\n",
       "        vertical-align: middle;\n",
       "    }\n",
       "\n",
       "    .dataframe tbody tr th {\n",
       "        vertical-align: top;\n",
       "    }\n",
       "\n",
       "    .dataframe thead th {\n",
       "        text-align: right;\n",
       "    }\n",
       "</style>\n",
       "<table border=\"1\" class=\"dataframe\">\n",
       "  <thead>\n",
       "    <tr style=\"text-align: right;\">\n",
       "      <th></th>\n",
       "      <th>Id</th>\n",
       "      <th>SepalLengthCm</th>\n",
       "      <th>SepalWidthCm</th>\n",
       "      <th>PetalLengthCm</th>\n",
       "      <th>PetalWidthCm</th>\n",
       "      <th>Species</th>\n",
       "    </tr>\n",
       "  </thead>\n",
       "  <tbody>\n",
       "    <tr>\n",
       "      <th>0</th>\n",
       "      <td>1</td>\n",
       "      <td>5.1</td>\n",
       "      <td>3.5</td>\n",
       "      <td>1.4</td>\n",
       "      <td>0.2</td>\n",
       "      <td>Iris-setosa</td>\n",
       "    </tr>\n",
       "    <tr>\n",
       "      <th>1</th>\n",
       "      <td>2</td>\n",
       "      <td>4.9</td>\n",
       "      <td>3.0</td>\n",
       "      <td>1.4</td>\n",
       "      <td>0.2</td>\n",
       "      <td>Iris-setosa</td>\n",
       "    </tr>\n",
       "  </tbody>\n",
       "</table>\n",
       "</div>"
      ],
      "text/plain": [
       "   Id  SepalLengthCm  SepalWidthCm  PetalLengthCm  PetalWidthCm      Species\n",
       "0   1            5.1           3.5            1.4           0.2  Iris-setosa\n",
       "1   2            4.9           3.0            1.4           0.2  Iris-setosa"
      ]
     },
     "execution_count": 113,
     "metadata": {},
     "output_type": "execute_result"
    }
   ],
   "source": [
    "iris_data.head(2)"
   ]
  },
  {
   "cell_type": "code",
   "execution_count": 114,
   "metadata": {},
   "outputs": [
    {
     "name": "stdout",
     "output_type": "stream",
     "text": [
      "<class 'pandas.core.frame.DataFrame'>\n",
      "RangeIndex: 150 entries, 0 to 149\n",
      "Data columns (total 6 columns):\n",
      " #   Column         Non-Null Count  Dtype  \n",
      "---  ------         --------------  -----  \n",
      " 0   Id             150 non-null    int64  \n",
      " 1   SepalLengthCm  150 non-null    float64\n",
      " 2   SepalWidthCm   150 non-null    float64\n",
      " 3   PetalLengthCm  150 non-null    float64\n",
      " 4   PetalWidthCm   150 non-null    float64\n",
      " 5   Species        150 non-null    object \n",
      "dtypes: float64(4), int64(1), object(1)\n",
      "memory usage: 7.2+ KB\n"
     ]
    }
   ],
   "source": [
    "iris_data.info()"
   ]
  },
  {
   "cell_type": "code",
   "execution_count": 115,
   "metadata": {},
   "outputs": [
    {
     "name": "stdout",
     "output_type": "stream",
     "text": [
      "Index(['Id', 'SepalLengthCm', 'SepalWidthCm', 'PetalLengthCm', 'PetalWidthCm',\n",
      "       'Species'],\n",
      "      dtype='object')\n"
     ]
    }
   ],
   "source": [
    "# skipping dropping id column for now\n",
    "print(iris_data.columns)\n",
    "iris_data.drop('Id', axis = 1,inplace = True)"
   ]
  },
  {
   "cell_type": "code",
   "execution_count": 116,
   "metadata": {},
   "outputs": [],
   "source": [
    "from sklearn.linear_model import LogisticRegression\n",
    "from sklearn.model_selection import train_test_split\n",
    "from sklearn.neighbors import KNeighborsClassifier\n",
    "from sklearn import svm\n",
    "from sklearn import metrics\n",
    "from sklearn.tree import DecisionTreeClassifier"
   ]
  },
  {
   "cell_type": "code",
   "execution_count": 117,
   "metadata": {},
   "outputs": [
    {
     "data": {
      "text/plain": [
       "(150, 5)"
      ]
     },
     "execution_count": 117,
     "metadata": {},
     "output_type": "execute_result"
    }
   ],
   "source": [
    "iris_data.shape"
   ]
  },
  {
   "cell_type": "code",
   "execution_count": 118,
   "metadata": {},
   "outputs": [
    {
     "data": {
      "image/png": "[encoded data removed]",
      "text/plain": [
       "<Figure size 700x400 with 2 Axes>"
      ]
     },
     "metadata": {},
     "output_type": "display_data"
    }
   ],
   "source": [
    "if 'Species' in iris_data.columns:\n",
    "    iris_data.drop('Species', axis=1, inplace=True)\n",
    "# print(\"Columns after drop:\", iris_data.columns)\n",
    "# Plot the correlation heatmap\n",
    "plt.figure(figsize=(7, 4))\n",
    "sns.heatmap(iris_data.corr(), annot=True, cmap='cubehelix_r')\n",
    "plt.show()"
   ]
  },
  {
   "cell_type": "markdown",
   "metadata": {},
   "source": [
    "Splitting The Data into Training And Testing Dataset"
   ]
  },
  {
   "cell_type": "code",
   "execution_count": 119,
   "metadata": {},
   "outputs": [
    {
     "name": "stdout",
     "output_type": "stream",
     "text": [
      "(105, 4)\n",
      "(45, 4)\n"
     ]
    }
   ],
   "source": [
    "train_data, test_data = train_test_split(iris_data, test_size=0.3)# in this our main data is split into train and test\n",
    "# the attribute test_size=0.3 splits the data into 70% and 30% ratio. train=70% and test=30%\n",
    "print(train_data.shape)\n",
    "print(test_data.shape)"
   ]
  },
  {
   "cell_type": "code",
   "execution_count": 120,
   "metadata": {},
   "outputs": [
    {
     "ename": "AttributeError",
     "evalue": "'DataFrame' object has no attribute 'Species'",
     "output_type": "error",
     "traceback": [
      "\u001b[31m---------------------------------------------------------------------------\u001b[39m",
      "\u001b[31mAttributeError\u001b[39m                            Traceback (most recent call last)",
      "\u001b[32m/tmp/ipykernel_121299/2721642834.py\u001b[39m in \u001b[36m?\u001b[39m\u001b[34m()\u001b[39m\n\u001b[32m      1\u001b[39m \u001b[38;5;66;03m# training data features\u001b[39;00m\n\u001b[32m      2\u001b[39m train_features = train_data[[\u001b[33m'SepalLengthCm'\u001b[39m, \u001b[33m'SepalWidthCm'\u001b[39m, \u001b[33m'PetalLengthCm'\u001b[39m, \u001b[33m'PetalWidthCm'\u001b[39m]]\n\u001b[32m      3\u001b[39m \u001b[38;5;66;03m# output of our training data\u001b[39;00m\n\u001b[32m----> \u001b[39m\u001b[32m4\u001b[39m train_labels = train_data.Species\n\u001b[32m      5\u001b[39m \u001b[38;5;66;03m# taking test data features\u001b[39;00m\n\u001b[32m      6\u001b[39m test_features = test_data[[\u001b[33m'SepalLengthCm'\u001b[39m, \u001b[33m'SepalWidthCm'\u001b[39m, \u001b[33m'PetalLengthCm'\u001b[39m, \u001b[33m'PetalWidthCm'\u001b[39m]]\n\u001b[32m      7\u001b[39m \u001b[38;5;66;03m# output value of test data\u001b[39;00m\n",
      "\u001b[32m~/College/OOP_Code/Research_Project_Code/myenv/lib/python3.12/site-packages/pandas/core/generic.py\u001b[39m in \u001b[36m?\u001b[39m\u001b[34m(self, name)\u001b[39m\n\u001b[32m   6295\u001b[39m             \u001b[38;5;28;01mand\u001b[39;00m name \u001b[38;5;28;01mnot\u001b[39;00m \u001b[38;5;28;01min\u001b[39;00m self._accessors\n\u001b[32m   6296\u001b[39m             \u001b[38;5;28;01mand\u001b[39;00m self._info_axis._can_hold_identifiers_and_holds_name(name)\n\u001b[32m   6297\u001b[39m         ):\n\u001b[32m   6298\u001b[39m             \u001b[38;5;28;01mreturn\u001b[39;00m self[name]\n\u001b[32m-> \u001b[39m\u001b[32m6299\u001b[39m         \u001b[38;5;28;01mreturn\u001b[39;00m object.__getattribute__(self, name)\n",
      "\u001b[31mAttributeError\u001b[39m: 'DataFrame' object has no attribute 'Species'"
     ]
    }
   ],
   "source": [
    "# training data features\n",
    "train_features = train_data[['SepalLengthCm', 'SepalWidthCm', 'PetalLengthCm', 'PetalWidthCm']]\n",
    "# output of our training data\n",
    "train_labels = train_data.Species\n",
    "# taking test data features\n",
    "test_features = test_data[['SepalLengthCm', 'SepalWidthCm', 'PetalLengthCm', 'PetalWidthCm']]\n",
    "# output value of test data\n",
    "test_labels = test_data.Species"
   ]
  },
  {
   "cell_type": "code",
   "execution_count": null,
   "metadata": {},
   "outputs": [
    {
     "data": {
      "text/html": [
       "<div>\n",
       "<style scoped>\n",
       "    .dataframe tbody tr th:only-of-type {\n",
       "        vertical-align: middle;\n",
       "    }\n",
       "\n",
       "    .dataframe tbody tr th {\n",
       "        vertical-align: top;\n",
       "    }\n",
       "\n",
       "    .dataframe thead th {\n",
       "        text-align: right;\n",
       "    }\n",
       "</style>\n",
       "<table border=\"1\" class=\"dataframe\">\n",
       "  <thead>\n",
       "    <tr style=\"text-align: right;\">\n",
       "      <th></th>\n",
       "      <th>SepalLengthCm</th>\n",
       "      <th>SepalWidthCm</th>\n",
       "      <th>PetalLengthCm</th>\n",
       "      <th>PetalWidthCm</th>\n",
       "    </tr>\n",
       "  </thead>\n",
       "  <tbody>\n",
       "    <tr>\n",
       "      <th>64</th>\n",
       "      <td>5.6</td>\n",
       "      <td>2.9</td>\n",
       "      <td>3.6</td>\n",
       "      <td>1.3</td>\n",
       "    </tr>\n",
       "    <tr>\n",
       "      <th>133</th>\n",
       "      <td>6.3</td>\n",
       "      <td>2.8</td>\n",
       "      <td>5.1</td>\n",
       "      <td>1.5</td>\n",
       "    </tr>\n",
       "  </tbody>\n",
       "</table>\n",
       "</div>"
      ],
      "text/plain": [
       "     SepalLengthCm  SepalWidthCm  PetalLengthCm  PetalWidthCm\n",
       "64             5.6           2.9            3.6           1.3\n",
       "133            6.3           2.8            5.1           1.5"
      ]
     },
     "execution_count": 85,
     "metadata": {},
     "output_type": "execute_result"
    }
   ],
   "source": [
    "train_features.head(2)"
   ]
  },
  {
   "cell_type": "code",
   "execution_count": null,
   "metadata": {},
   "outputs": [
    {
     "data": {
      "text/html": [
       "<div>\n",
       "<style scoped>\n",
       "    .dataframe tbody tr th:only-of-type {\n",
       "        vertical-align: middle;\n",
       "    }\n",
       "\n",
       "    .dataframe tbody tr th {\n",
       "        vertical-align: top;\n",
       "    }\n",
       "\n",
       "    .dataframe thead th {\n",
       "        text-align: right;\n",
       "    }\n",
       "</style>\n",
       "<table border=\"1\" class=\"dataframe\">\n",
       "  <thead>\n",
       "    <tr style=\"text-align: right;\">\n",
       "      <th></th>\n",
       "      <th>SepalLengthCm</th>\n",
       "      <th>SepalWidthCm</th>\n",
       "      <th>PetalLengthCm</th>\n",
       "      <th>PetalWidthCm</th>\n",
       "    </tr>\n",
       "  </thead>\n",
       "  <tbody>\n",
       "    <tr>\n",
       "      <th>45</th>\n",
       "      <td>4.8</td>\n",
       "      <td>3.0</td>\n",
       "      <td>1.4</td>\n",
       "      <td>0.3</td>\n",
       "    </tr>\n",
       "    <tr>\n",
       "      <th>10</th>\n",
       "      <td>5.4</td>\n",
       "      <td>3.7</td>\n",
       "      <td>1.5</td>\n",
       "      <td>0.2</td>\n",
       "    </tr>\n",
       "  </tbody>\n",
       "</table>\n",
       "</div>"
      ],
      "text/plain": [
       "    SepalLengthCm  SepalWidthCm  PetalLengthCm  PetalWidthCm\n",
       "45            4.8           3.0            1.4           0.3\n",
       "10            5.4           3.7            1.5           0.2"
      ]
     },
     "execution_count": 86,
     "metadata": {},
     "output_type": "execute_result"
    }
   ],
   "source": [
    "test_features.head(2)"
   ]
  },
  {
   "cell_type": "code",
   "execution_count": null,
   "metadata": {},
   "outputs": [
    {
     "data": {
      "text/plain": [
       "64     Iris-versicolor\n",
       "133     Iris-virginica\n",
       "109     Iris-virginica\n",
       "72     Iris-versicolor\n",
       "43         Iris-setosa\n",
       "Name: Species, dtype: object"
      ]
     },
     "execution_count": 87,
     "metadata": {},
     "output_type": "execute_result"
    }
   ],
   "source": [
    "# output of training data\n",
    "train_labels.head()"
   ]
  },
  {
   "cell_type": "markdown",
   "metadata": {},
   "source": [
    "Support Vector Machine (SVM)"
   ]
  },
  {
   "cell_type": "code",
   "execution_count": null,
   "metadata": {},
   "outputs": [
    {
     "name": "stdout",
     "output_type": "stream",
     "text": [
      "The accuracy of the SVM is: 0.9777777777777777\n"
     ]
    }
   ],
   "source": [
    "# select the alogorithm\n",
    "svm_classifier = svm.SVC()\n",
    "\n",
    "# train the algorith with the training data and the training output\n",
    "svm_classifier.fit(train_features, train_labels)\n",
    "\n",
    "# pass the testing data to the trained algorithm\n",
    "prediction = svm_classifier.predict(test_features)\n",
    "\n",
    "# check the accuracy of the algorithm\n",
    "print('The accuracy of the SVM is:', metrics.accuracy_score(prediction,test_labels))"
   ]
  },
  {
   "cell_type": "markdown",
   "metadata": {},
   "source": [
    "Logistic Regression"
   ]
  },
  {
   "cell_type": "code",
   "execution_count": null,
   "metadata": {},
   "outputs": [
    {
     "name": "stdout",
     "output_type": "stream",
     "text": [
      "The accuracy of the Logistic Regression is 0.9777777777777777\n"
     ]
    }
   ],
   "source": [
    "logistic_regression_classifier = LogisticRegression()\n",
    "logistic_regression_classifier.fit(train_features, train_labels)\n",
    "prediction = logistic_regression_classifier.predict(test_features)\n",
    "print('The accuracy of the Logistic Regression is', metrics.accuracy_score(prediction, test_labels))"
   ]
  },
  {
   "cell_type": "markdown",
   "metadata": {},
   "source": [
    "Decision Tree"
   ]
  },
  {
   "cell_type": "code",
   "execution_count": null,
   "metadata": {},
   "outputs": [
    {
     "name": "stdout",
     "output_type": "stream",
     "text": [
      "The accuracy of the Decision Tree is 1.0\n"
     ]
    }
   ],
   "source": [
    "decision_tree_classifier = DecisionTreeClassifier()\n",
    "decision_tree_classifier.fit(train_features, train_labels)\n",
    "prediction = decision_tree_classifier.predict(test_features)\n",
    "print('The accuracy of the Decision Tree is', metrics.accuracy_score(prediction, test_labels))"
   ]
  },
  {
   "cell_type": "markdown",
   "metadata": {},
   "source": [
    "K-Nearest Neighbours"
   ]
  },
  {
   "cell_type": "code",
   "execution_count": null,
   "metadata": {},
   "outputs": [
    {
     "name": "stdout",
     "output_type": "stream",
     "text": [
      "The accuracy of the KNN is 0.9777777777777777\n"
     ]
    }
   ],
   "source": [
    "# examines 3 neighbours for putting the new data into a class\n",
    "K_neighbors_classifier = KNeighborsClassifier(n_neighbors=3)\n",
    "K_neighbors_classifier.fit(train_features, train_labels)\n",
    "prediction = K_neighbors_classifier.predict(test_features)\n",
    "print('The accuracy of the KNN is', metrics.accuracy_score(prediction, test_labels))"
   ]
  },
  {
   "cell_type": "code",
   "execution_count": null,
   "metadata": {},
   "outputs": [
    {
     "data": {
      "image/png": "[encoded data removed]",
      "text/plain": [
       "<Figure size 640x480 with 1 Axes>"
      ]
     },
     "metadata": {},
     "output_type": "display_data"
    }
   ],
   "source": [
    "# Check the accuracy for various values of n for K-Nearest Neighbors\n",
    "neighbor_counts = list(range(1, 11))\n",
    "accuracy_scores = pd.Series(dtype=float)  # Initialize an empty Series with float dtype\n",
    "neighbor_values = [1, 2, 3, 4, 5, 6, 7, 8, 9, 10]\n",
    "\n",
    "for i in neighbor_counts:\n",
    "    K_neighbors_classifier = KNeighborsClassifier(n_neighbors=i)\n",
    "    K_neighbors_classifier.fit(train_features, train_labels)\n",
    "    prediction = K_neighbors_classifier.predict(test_features)\n",
    "    # Use pd.concat instead of append\n",
    "    accuracy_scores = pd.concat([accuracy_scores, pd.Series([metrics.accuracy_score(prediction, test_labels)])])\n",
    "\n",
    "# Plot the accuracy scores\n",
    "plt.plot(neighbor_counts, accuracy_scores)\n",
    "plt.xticks(neighbor_values)\n",
    "plt.xlabel('Number of Neighbors (k)')\n",
    "plt.ylabel('Accuracy')\n",
    "plt.title('Accuracy vs. Number of Neighbors in KNN')\n",
    "plt.show()"
   ]
  },
  {
   "cell_type": "markdown",
   "metadata": {},
   "source": [
    "Creating Petals And Sepals Training Data"
   ]
  },
  {
   "cell_type": "code",
   "execution_count": null,
   "metadata": {},
   "outputs": [],
   "source": [
    "petal_data = iris_data[['PetalLengthCm', 'PetalWidthCm', 'Species']]\n",
    "sepal_data = iris_data[['SepalLengthCm', 'SepalWidthCm', 'Species']]"
   ]
  },
  {
   "cell_type": "code",
   "execution_count": null,
   "metadata": {},
   "outputs": [],
   "source": [
    "train_petal_data, test_petal_data = train_test_split(petal_data, test_size=0.3, random_state=0)\n",
    "train_petal_features = train_petal_data[['PetalWidthCm', 'PetalLengthCm']]\n",
    "train_petal_labels = train_petal_data.Species\n",
    "test_petal_features = test_petal_data[['PetalWidthCm', 'PetalLengthCm']]\n",
    "test_petal_labels = test_petal_data.Species\n",
    "\n",
    "train_sepal_data, test_sepal_data = train_test_split(sepal_data, test_size=0.3, random_state=0)\n",
    "train_sepal_features = train_sepal_data[['SepalWidthCm', 'SepalLengthCm']]\n",
    "train_sepal_labels = train_sepal_data.Species\n",
    "test_sepal_features = test_sepal_data[['SepalWidthCm', 'SepalLengthCm']]\n",
    "test_sepal_labels = test_sepal_data.Species"
   ]
  },
  {
   "cell_type": "markdown",
   "metadata": {},
   "source": [
    "model = LogisticReg"
   ]
  },
  {
   "cell_type": "markdown",
   "metadata": {},
   "source": [
    "SVM"
   ]
  },
  {
   "cell_type": "code",
   "execution_count": null,
   "metadata": {},
   "outputs": [
    {
     "name": "stdout",
     "output_type": "stream",
     "text": [
      "The accuracy of the SVM using Petals is: 0.9777777777777777\n",
      "The accuracy of the SVM using Sepal is: 0.8\n"
     ]
    }
   ],
   "source": [
    "svm_classifier = svm.SVC()\n",
    "svm_classifier .fit(train_petal_features, train_petal_labels)\n",
    "prediction = svm_classifier .predict(test_petal_features)\n",
    "print('The accuracy of the SVM using Petals is:', metrics.accuracy_score(prediction, test_petal_labels))\n",
    "\n",
    "svm_classifier = svm.SVC()\n",
    "svm_classifier .fit(train_sepal_features, train_sepal_labels)\n",
    "prediction = svm_classifier .predict(test_sepal_features)\n",
    "print('The accuracy of the SVM using Sepal is:', metrics.accuracy_score(prediction,test_sepal_labels))"
   ]
  },
  {
   "cell_type": "markdown",
   "metadata": {},
   "source": [
    "LogisticRegression"
   ]
  },
  {
   "cell_type": "code",
   "execution_count": null,
   "metadata": {},
   "outputs": [
    {
     "name": "stdout",
     "output_type": "stream",
     "text": [
      "The accuracy of the Logistic Regression using Petals is: 0.9777777777777777\n",
      "The accuracy of the Logistic Regression using Sepals is: 0.8222222222222222\n"
     ]
    }
   ],
   "source": [
    "logistic_regression_classifier = LogisticRegression()\n",
    "logistic_regression_classifier .fit(train_petal_features, train_petal_labels)\n",
    "prediction = logistic_regression_classifier .predict(test_petal_features)\n",
    "print('The accuracy of the Logistic Regression using Petals is:',\n",
    "      metrics.accuracy_score(prediction, test_petal_labels))\n",
    "\n",
    "logistic_regression_classifier .fit(train_sepal_features, train_sepal_labels)\n",
    "prediction = logistic_regression_classifier .predict(test_sepal_features)\n",
    "print('The accuracy of the Logistic Regression using Sepals is:', metrics.accuracy_score(prediction,test_sepal_labels))"
   ]
  },
  {
   "cell_type": "markdown",
   "metadata": {},
   "source": [
    "Decision Tree"
   ]
  },
  {
   "cell_type": "code",
   "execution_count": null,
   "metadata": {},
   "outputs": [
    {
     "name": "stdout",
     "output_type": "stream",
     "text": [
      "The accuracy of the Decision Tree using Petals is: 0.9555555555555556\n",
      "The accuracy of the Decision Tree using Sepals is: 0.6444444444444445\n"
     ]
    }
   ],
   "source": [
    "decision_tree_classifier = DecisionTreeClassifier()\n",
    "decision_tree_classifier .fit(train_petal_features, train_petal_labels)\n",
    "prediction = decision_tree_classifier .predict(test_petal_features)\n",
    "print('The accuracy of the Decision Tree using Petals is:',\n",
    "      metrics.accuracy_score(prediction, test_petal_labels))\n",
    "\n",
    "decision_tree_classifier .fit(train_sepal_features, train_sepal_labels)\n",
    "prediction = decision_tree_classifier .predict(test_sepal_features)\n",
    "print('The accuracy of the Decision Tree using Sepals is:', metrics.accuracy_score(prediction,test_sepal_labels))"
   ]
  },
  {
   "cell_type": "markdown",
   "metadata": {},
   "source": [
    "K-Nearest Neighbours"
   ]
  },
  {
   "cell_type": "code",
   "execution_count": null,
   "metadata": {},
   "outputs": [
    {
     "name": "stdout",
     "output_type": "stream",
     "text": [
      "The accuracy of the KNN using Petals is: 0.9777777777777777\n",
      "The accuracy of the KNN using Sepals is: 0.7333333333333333\n"
     ]
    }
   ],
   "source": [
    "knn_classifier = KNeighborsClassifier(n_neighbors=3)\n",
    "knn_classifier .fit(train_petal_features, train_petal_labels)\n",
    "prediction = knn_classifier .predict(test_petal_features)\n",
    "print('The accuracy of the KNN using Petals is:',\n",
    "      metrics.accuracy_score(prediction, test_petal_labels))\n",
    "\n",
    "knn_classifier .fit(train_sepal_features, train_sepal_labels)\n",
    "prediction = knn_classifier .predict(test_sepal_features)\n",
    "print('The accuracy of the KNN using Sepals is:', metrics.accuracy_score(prediction,test_sepal_labels))"
   ]
  },
  {
   "cell_type": "markdown",
   "metadata": {},
   "source": [
    "Using Petals over Sepal for training the data gives a much better accuracy."
   ]
  }
 ],
 "metadata": {
  "kernelspec": {
   "display_name": "myenv",
   "language": "python",
   "name": "python3"
  },
  "language_info": {
   "codemirror_mode": {
    "name": "ipython",
    "version": 3
   },
   "file_extension": ".py",
   "mimetype": "text/x-python",
   "name": "python",
   "nbconvert_exporter": "python",
   "pygments_lexer": "ipython3",
   "version": "3.12.3"
  }
 },
 "nbformat": 4,
 "nbformat_minor": 2
}
