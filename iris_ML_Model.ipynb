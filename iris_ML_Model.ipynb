{
 "cells": [
  {
   "cell_type": "code",
   "execution_count": null,
   "metadata": {},
   "outputs": [],
   "source": [
    "!pip install numpy\n",
    "!pip install matplotlib\n",
    "!pip install pandas\n",
    "!pip install seaborn\n",
    "!pip install scikit-learn"
   ]
  },
  {
   "cell_type": "code",
   "execution_count": null,
   "metadata": {},
   "outputs": [],
   "source": [
    "import numpy as np\n",
    "import matplotlib.pyplot as plt\n",
    "import seaborn as sns\n",
    "import pandas as pd\n",
    "from subprocess import check_output"
   ]
  },
  {
   "cell_type": "code",
   "execution_count": null,
   "metadata": {},
   "outputs": [],
   "source": [
    "print(check_output([\"ls\", \"./Input_Data\"]).decode(\"utf8\"))"
   ]
  },
  {
   "cell_type": "code",
   "execution_count": null,
   "metadata": {},
   "outputs": [],
   "source": [
    "iris_data = pd.read_csv(\"./Input_Data/Iris.csv\")"
   ]
  },
  {
   "cell_type": "code",
   "execution_count": null,
   "metadata": {},
   "outputs": [],
   "source": [
    "iris_data.head(2)"
   ]
  },
  {
   "cell_type": "code",
   "execution_count": null,
   "metadata": {},
   "outputs": [],
   "source": [
    "iris_data.info()"
   ]
  },
  {
   "cell_type": "code",
   "execution_count": null,
   "metadata": {},
   "outputs": [],
   "source": [
    "# skipping dropping id column for now\n",
    "print(iris_data.columns)\n",
    "iris_data.drop('Id', axis = 1,inplace = True)"
   ]
  },
  {
   "cell_type": "code",
   "execution_count": null,
   "metadata": {},
   "outputs": [],
   "source": [
    "from sklearn.linear_model import LogisticRegression\n",
    "from sklearn.model_selection import train_test_split\n",
    "from sklearn.neighbors import KNeighborsClassifier\n",
    "from sklearn import svm\n",
    "from sklearn import metrics\n",
    "from sklearn.tree import DecisionTreeClassifier"
   ]
  },
  {
   "cell_type": "code",
   "execution_count": null,
   "metadata": {},
   "outputs": [],
   "source": [
    "iris_data.shape"
   ]
  },
  {
   "cell_type": "code",
   "execution_count": null,
   "metadata": {},
   "outputs": [],
   "source": [
    "# if 'Species' in iris_data.columns:\n",
    "#     iris_data.drop('Species', axis=1, inplace=True)\n",
    "# # print(\"Columns after drop:\", iris_data.columns)\n",
    "# # Plot the correlation heatmap\n",
    "# plt.figure(figsize=(7, 4))\n",
    "# sns.heatmap(iris_data.corr(), annot=True, cmap='cubehelix_r')\n",
    "# plt.show()"
   ]
  },
  {
   "cell_type": "markdown",
   "metadata": {},
   "source": [
    "Splitting The Data into Training And Testing Dataset"
   ]
  },
  {
   "cell_type": "code",
   "execution_count": null,
   "metadata": {},
   "outputs": [],
   "source": [
    "train_data, test_data = train_test_split(iris_data, test_size=0.3)# in this our main data is split into train and test\n",
    "# the attribute test_size=0.3 splits the data into 70% and 30% ratio. train=70% and test=30%\n",
    "print(train_data.shape)\n",
    "print(test_data.shape)"
   ]
  },
  {
   "cell_type": "code",
   "execution_count": null,
   "metadata": {},
   "outputs": [],
   "source": [
    "# training data features\n",
    "train_features = train_data[['SepalLengthCm', 'SepalWidthCm', 'PetalLengthCm', 'PetalWidthCm']]\n",
    "# output of our training data\n",
    "train_labels = train_data.Species\n",
    "# taking test data features\n",
    "test_features = test_data[['SepalLengthCm', 'SepalWidthCm', 'PetalLengthCm', 'PetalWidthCm']]\n",
    "# output value of test data\n",
    "test_labels = test_data.Species"
   ]
  },
  {
   "cell_type": "code",
   "execution_count": null,
   "metadata": {},
   "outputs": [],
   "source": [
    "train_features.head(2)"
   ]
  },
  {
   "cell_type": "code",
   "execution_count": null,
   "metadata": {},
   "outputs": [],
   "source": [
    "test_features.head(2)"
   ]
  },
  {
   "cell_type": "code",
   "execution_count": null,
   "metadata": {},
   "outputs": [],
   "source": [
    "# output of training data\n",
    "train_labels.head()"
   ]
  },
  {
   "cell_type": "markdown",
   "metadata": {},
   "source": [
    "Support Vector Machine (SVM)"
   ]
  },
  {
   "cell_type": "code",
   "execution_count": null,
   "metadata": {},
   "outputs": [],
   "source": [
    "# select the alogorithm\n",
    "svm_classifier = svm.SVC()\n",
    "\n",
    "# train the algorith with the training data and the training output\n",
    "svm_classifier.fit(train_features, train_labels)\n",
    "\n",
    "# pass the testing data to the trained algorithm\n",
    "prediction = svm_classifier.predict(test_features)\n",
    "\n",
    "# check the accuracy of the algorithm\n",
    "print('The accuracy of the SVM is:', metrics.accuracy_score(prediction,test_labels))"
   ]
  },
  {
   "cell_type": "markdown",
   "metadata": {},
   "source": [
    "Logistic Regression"
   ]
  },
  {
   "cell_type": "code",
   "execution_count": null,
   "metadata": {},
   "outputs": [],
   "source": [
    "logistic_regression_classifier = LogisticRegression()\n",
    "logistic_regression_classifier.fit(train_features, train_labels)\n",
    "prediction = logistic_regression_classifier.predict(test_features)\n",
    "print('The accuracy of the Logistic Regression is', metrics.accuracy_score(prediction, test_labels))"
   ]
  },
  {
   "cell_type": "markdown",
   "metadata": {},
   "source": [
    "Decision Tree"
   ]
  },
  {
   "cell_type": "code",
   "execution_count": null,
   "metadata": {},
   "outputs": [],
   "source": [
    "decision_tree_classifier = DecisionTreeClassifier()\n",
    "decision_tree_classifier.fit(train_features, train_labels)\n",
    "prediction = decision_tree_classifier.predict(test_features)\n",
    "print('The accuracy of the Decision Tree is', metrics.accuracy_score(prediction, test_labels))"
   ]
  },
  {
   "cell_type": "markdown",
   "metadata": {},
   "source": [
    "K-Nearest Neighbours"
   ]
  },
  {
   "cell_type": "code",
   "execution_count": null,
   "metadata": {},
   "outputs": [],
   "source": [
    "# examines 3 neighbours for putting the new data into a class\n",
    "K_neighbors_classifier = KNeighborsClassifier(n_neighbors=3)\n",
    "K_neighbors_classifier.fit(train_features, train_labels)\n",
    "prediction = K_neighbors_classifier.predict(test_features)\n",
    "print('The accuracy of the KNN is', metrics.accuracy_score(prediction, test_labels))"
   ]
  },
  {
   "cell_type": "code",
   "execution_count": null,
   "metadata": {},
   "outputs": [],
   "source": [
    "# Check the accuracy for various values of n for K-Nearest Neighbors\n",
    "neighbor_counts = list(range(1, 11))\n",
    "accuracy_scores = pd.Series(dtype=float)  # Initialize an empty Series with float dtype\n",
    "neighbor_values = [1, 2, 3, 4, 5, 6, 7, 8, 9, 10]\n",
    "\n",
    "for i in neighbor_counts:\n",
    "    K_neighbors_classifier = KNeighborsClassifier(n_neighbors=i)\n",
    "    K_neighbors_classifier.fit(train_features, train_labels)\n",
    "    prediction = K_neighbors_classifier.predict(test_features)\n",
    "    # Use pd.concat instead of append\n",
    "    accuracy_scores = pd.concat([accuracy_scores, pd.Series([metrics.accuracy_score(prediction, test_labels)])])\n",
    "\n",
    "# Plot the accuracy scores\n",
    "plt.plot(neighbor_counts, accuracy_scores)\n",
    "plt.xticks(neighbor_values)\n",
    "plt.xlabel('Number of Neighbors (k)')\n",
    "plt.ylabel('Accuracy')\n",
    "plt.title('Accuracy vs. Number of Neighbors in KNN')\n",
    "plt.show()"
   ]
  },
  {
   "cell_type": "markdown",
   "metadata": {},
   "source": [
    "Creating Petals And Sepals Training Data"
   ]
  },
  {
   "cell_type": "code",
   "execution_count": null,
   "metadata": {},
   "outputs": [],
   "source": [
    "petal_data = iris_data[['PetalLengthCm', 'PetalWidthCm', 'Species']]\n",
    "sepal_data = iris_data[['SepalLengthCm', 'SepalWidthCm', 'Species']]"
   ]
  },
  {
   "cell_type": "code",
   "execution_count": null,
   "metadata": {},
   "outputs": [],
   "source": [
    "train_petal_data, test_petal_data = train_test_split(petal_data, test_size=0.3, random_state=0)\n",
    "train_petal_features = train_petal_data[['PetalWidthCm', 'PetalLengthCm']]\n",
    "train_petal_labels = train_petal_data.Species\n",
    "test_petal_features = test_petal_data[['PetalWidthCm', 'PetalLengthCm']]\n",
    "test_petal_labels = test_petal_data.Species\n",
    "\n",
    "train_sepal_data, test_sepal_data = train_test_split(sepal_data, test_size=0.3, random_state=0)\n",
    "train_sepal_features = train_sepal_data[['SepalWidthCm', 'SepalLengthCm']]\n",
    "train_sepal_labels = train_sepal_data.Species\n",
    "test_sepal_features = test_sepal_data[['SepalWidthCm', 'SepalLengthCm']]\n",
    "test_sepal_labels = test_sepal_data.Species"
   ]
  },
  {
   "cell_type": "markdown",
   "metadata": {},
   "source": [
    "SVM"
   ]
  },
  {
   "cell_type": "code",
   "execution_count": null,
   "metadata": {},
   "outputs": [],
   "source": [
    "svm_classifier = svm.SVC()\n",
    "svm_classifier .fit(train_petal_features, train_petal_labels)\n",
    "prediction = svm_classifier .predict(test_petal_features)\n",
    "print('The accuracy of the SVM using Petals is:', metrics.accuracy_score(prediction, test_petal_labels))\n",
    "\n",
    "svm_classifier = svm.SVC()\n",
    "svm_classifier .fit(train_sepal_features, train_sepal_labels)\n",
    "prediction = svm_classifier .predict(test_sepal_features)\n",
    "print('The accuracy of the SVM using Sepal is:', metrics.accuracy_score(prediction,test_sepal_labels))"
   ]
  },
  {
   "cell_type": "markdown",
   "metadata": {},
   "source": [
    "LogisticRegression"
   ]
  },
  {
   "cell_type": "code",
   "execution_count": null,
   "metadata": {},
   "outputs": [],
   "source": [
    "logistic_regression_classifier = LogisticRegression()\n",
    "logistic_regression_classifier .fit(train_petal_features, train_petal_labels)\n",
    "prediction = logistic_regression_classifier .predict(test_petal_features)\n",
    "print('The accuracy of the Logistic Regression using Petals is:',\n",
    "      metrics.accuracy_score(prediction, test_petal_labels))\n",
    "\n",
    "logistic_regression_classifier .fit(train_sepal_features, train_sepal_labels)\n",
    "prediction = logistic_regression_classifier .predict(test_sepal_features)\n",
    "print('The accuracy of the Logistic Regression using Sepals is:', metrics.accuracy_score(prediction,test_sepal_labels))"
   ]
  },
  {
   "cell_type": "markdown",
   "metadata": {},
   "source": [
    "Decision Tree"
   ]
  },
  {
   "cell_type": "code",
   "execution_count": null,
   "metadata": {},
   "outputs": [],
   "source": [
    "decision_tree_classifier = DecisionTreeClassifier()\n",
    "decision_tree_classifier .fit(train_petal_features, train_petal_labels)\n",
    "prediction = decision_tree_classifier .predict(test_petal_features)\n",
    "print('The accuracy of the Decision Tree using Petals is:',\n",
    "      metrics.accuracy_score(prediction, test_petal_labels))\n",
    "\n",
    "decision_tree_classifier .fit(train_sepal_features, train_sepal_labels)\n",
    "prediction = decision_tree_classifier .predict(test_sepal_features)\n",
    "print('The accuracy of the Decision Tree using Sepals is:', metrics.accuracy_score(prediction,test_sepal_labels))"
   ]
  },
  {
   "cell_type": "markdown",
   "metadata": {},
   "source": [
    "K-Nearest Neighbours"
   ]
  },
  {
   "cell_type": "code",
   "execution_count": null,
   "metadata": {},
   "outputs": [],
   "source": [
    "knn_classifier = KNeighborsClassifier(n_neighbors=3)\n",
    "knn_classifier .fit(train_petal_features, train_petal_labels)\n",
    "prediction = knn_classifier .predict(test_petal_features)\n",
    "print('The accuracy of the KNN using Petals is:',\n",
    "      metrics.accuracy_score(prediction, test_petal_labels))\n",
    "\n",
    "knn_classifier .fit(train_sepal_features, train_sepal_labels)\n",
    "prediction = knn_classifier .predict(test_sepal_features)\n",
    "print('The accuracy of the KNN using Sepals is:', metrics.accuracy_score(prediction,test_sepal_labels))"
   ]
  },
  {
   "cell_type": "markdown",
   "metadata": {},
   "source": [
    "Using Petals over Sepal for training the data gives a much better accuracy."
   ]
  }
 ],
 "metadata": {
  "kernelspec": {
   "display_name": "myenv",
   "language": "python",
   "name": "python3"
  },
  "language_info": {
   "codemirror_mode": {
    "name": "ipython",
    "version": 3
   },
   "file_extension": ".py",
   "mimetype": "text/x-python",
   "name": "python",
   "nbconvert_exporter": "python",
   "pygments_lexer": "ipython3",
   "version": "3.12.3"
  }
 },
 "nbformat": 4,
 "nbformat_minor": 2
}
