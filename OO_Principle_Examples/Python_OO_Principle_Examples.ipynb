{
 "cells": [
  {
   "cell_type": "markdown",
   "id": "2dee8ab6",
   "metadata": {},
   "source": [
    "### Encapsulation"
   ]
  },
  {
   "cell_type": "code",
   "execution_count": null,
   "id": "19804c16",
   "metadata": {},
   "outputs": [
    {
     "name": "stdout",
     "output_type": "stream",
     "text": [
      "Species: Dog\n",
      "Age: 3\n",
      "Updated Species: Cat\n",
      "Updated Age: 5\n"
     ]
    }
   ],
   "source": [
    "class Animal:\n",
    "    def __init__(self, species, age):\n",
    "        self.__species = species  \n",
    "        self.__age = age          \n",
    "\n",
    "    def get_species(self):\n",
    "        return self.__species\n",
    "\n",
    "    def set_species(self, species):\n",
    "        self.__species = species\n",
    "\n",
    "    def get_age(self):\n",
    "        return self.__age\n",
    "\n",
    "    def set_age(self, age):\n",
    "        if age >= 0:\n",
    "            self.__age = age\n",
    "\n",
    "\n",
    "animal = Animal(\"Dog\", 3)\n",
    "print(\"Species:\", animal.get_species())\n",
    "print(\"Age:\", animal.get_age())\n",
    "\n",
    "animal.set_species(\"Cat\")\n",
    "animal.set_age(5)\n",
    "\n",
    "print(\"Updated Species:\", animal.get_species())\n",
    "print(\"Updated Age:\", animal.get_age())"
   ]
  },
  {
   "cell_type": "markdown",
   "id": "5cbed226",
   "metadata": {
    "vscode": {
     "languageId": "plaintext"
    }
   },
   "source": [
    "### Inheritance"
   ]
  },
  {
   "cell_type": "code",
   "execution_count": 3,
   "id": "f54a2b07",
   "metadata": {},
   "outputs": [
    {
     "name": "stdout",
     "output_type": "stream",
     "text": [
      "Bark\n"
     ]
    }
   ],
   "source": [
    "class Animal:\n",
    "    def speak(self):\n",
    "        return \"Some sound\"\n",
    "\n",
    "\n",
    "class Dog(Animal):\n",
    "    def speak(self):\n",
    "        return \"Bark\"\n",
    "\n",
    "\n",
    "dog = Dog()\n",
    "print(dog.speak())"
   ]
  },
  {
   "cell_type": "markdown",
   "id": "c55c4594",
   "metadata": {},
   "source": [
    "### Polymorphism\n"
   ]
  },
  {
   "cell_type": "code",
   "execution_count": 4,
   "id": "80108ccb",
   "metadata": {},
   "outputs": [
    {
     "name": "stdout",
     "output_type": "stream",
     "text": [
      "Meow\n",
      "Bark\n"
     ]
    }
   ],
   "source": [
    "class Cat:\n",
    "    def sound(self):\n",
    "        return \"Meow\"\n",
    "\n",
    "\n",
    "class Dog:\n",
    "    def sound(self):\n",
    "        return \"Bark\"\n",
    "\n",
    "\n",
    "def make_animal_sound(animal):\n",
    "    print(animal.sound())\n",
    "\n",
    "\n",
    "make_animal_sound(Cat())\n",
    "make_animal_sound(Dog())"
   ]
  },
  {
   "cell_type": "markdown",
   "id": "7c125977",
   "metadata": {
    "vscode": {
     "languageId": "plaintext"
    }
   },
   "source": [
    "### Abstraction"
   ]
  },
  {
   "cell_type": "code",
   "execution_count": 2,
   "id": "159aa60c",
   "metadata": {},
   "outputs": [
    {
     "name": "stdout",
     "output_type": "stream",
     "text": [
      "Woof\n"
     ]
    }
   ],
   "source": [
    "from abc import ABC, abstractmethod\n",
    "\n",
    "\n",
    "class Animal(ABC):\n",
    "    @abstractmethod\n",
    "    def make_sound(self):\n",
    "        pass\n",
    "\n",
    "\n",
    "class Dog(Animal):\n",
    "    def make_sound(self):\n",
    "        return \"Woof\"\n",
    "\n",
    "\n",
    "d = Dog()\n",
    "print(d.make_sound())"
   ]
  }
 ],
 "metadata": {
  "kernelspec": {
   "display_name": "myenv",
   "language": "python",
   "name": "python3"
  },
  "language_info": {
   "codemirror_mode": {
    "name": "ipython",
    "version": 3
   },
   "file_extension": ".py",
   "mimetype": "text/x-python",
   "name": "python",
   "nbconvert_exporter": "python",
   "pygments_lexer": "ipython3",
   "version": "3.12.3"
  }
 },
 "nbformat": 4,
 "nbformat_minor": 5
}
